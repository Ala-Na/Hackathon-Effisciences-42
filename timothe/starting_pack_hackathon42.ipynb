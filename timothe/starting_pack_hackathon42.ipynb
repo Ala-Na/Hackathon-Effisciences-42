{
 "cells": [
  {
   "cell_type": "markdown",
   "metadata": {},
   "source": [
    "\n",
    "[![Open In Colab](https://colab.research.google.com/assets/colab-badge.svg)](https://colab.research.google.com/github/EffiSciencesResearch/hackathon42/blob/main/starting_pack_hackathon42.ipynb)\n"
   ]
  },
  {
   "cell_type": "code",
   "execution_count": null,
   "metadata": {},
   "outputs": [
    {
     "ename": "",
     "evalue": "",
     "output_type": "error",
     "traceback": [
      "\u001b[1;31mRunning cells with 'Python 3.10.6 ('torch')' requires ipykernel package.\n",
      "\u001b[1;31mRun the following command to install 'ipykernel' into the Python environment. \n",
      "\u001b[1;31mCommand: 'conda install -n torch ipykernel --update-deps --force-reinstall'"
     ]
    }
   ],
   "source": [
    "%load_ext autoreload\n",
    "%autoreload 2\n",
    "from get import *"
   ]
  },
  {
   "cell_type": "code",
   "execution_count": null,
   "metadata": {},
   "outputs": [
    {
     "ename": "",
     "evalue": "",
     "output_type": "error",
     "traceback": [
      "\u001b[1;31mRunning cells with 'Python 3.10.6 ('torch')' requires ipykernel package.\n",
      "\u001b[1;31mRun the following command to install 'ipykernel' into the Python environment. \n",
      "\u001b[1;31mCommand: 'conda install -n torch ipykernel --update-deps --force-reinstall'"
     ]
    }
   ],
   "source": [
    "# Display dataset 0 (toy)\n",
    "display_dataset(n_dataset=0, N_data=5)\n"
   ]
  },
  {
   "cell_type": "code",
   "execution_count": null,
   "metadata": {},
   "outputs": [
    {
     "ename": "",
     "evalue": "",
     "output_type": "error",
     "traceback": [
      "\u001b[1;31mRunning cells with 'Python 3.10.6 ('torch')' requires ipykernel package.\n",
      "\u001b[1;31mRun the following command to install 'ipykernel' into the Python environment. \n",
      "\u001b[1;31mCommand: 'conda install -n torch ipykernel --update-deps --force-reinstall'"
     ]
    }
   ],
   "source": [
    "import pandas as pd\n",
    "\n",
    "tbatch = 100\n",
    "nb_epochs = 20\n",
    "\n",
    "nbbatchs = int(X_train.shape[0]/tbatch)\n",
    "\n",
    "criterion = nn.CrossEntropyLoss()\n",
    "optimizer = torch.optim.Adam(net.parameters(), lr=0.01)\n",
    "\n",
    "net.train()\n",
    "\n",
    "def evaluate(X_test):\n",
    "    net.eval()\n",
    "    with torch.no_grad():\n",
    "        y_pred = net(X_test)\n",
    "    correct_test = (torch.argmax(y_pred, axis=1) == y_test).sum().item()\n",
    "    net.train()\n",
    "    return correct_test/len(X_test)\n",
    "\n",
    "for epoch in tqdm(range(nb_epochs)):  # loop over the dataset multiple times\n",
    "    correct = 0\n",
    "    for i in (range(nbbatchs)):\n",
    "        \n",
    "        optimizer.zero_grad()\n",
    "        \n",
    "        X_batch = X_train[i*tbatch:(i+1)*tbatch]\n",
    "        y_batch = y_train[i*tbatch:(i+1)*tbatch]\n",
    "\n",
    "        # Compute forward / backward\n",
    "        y_pred = net(X_batch)\n",
    "        correct += (torch.argmax(y_pred, axis=1) == y_batch).sum().item()\n",
    "\n",
    "        loss = criterion(y_pred, y_batch)\n",
    "        \n",
    "\n",
    "        loss.backward()\n",
    "        optimizer.step()\n",
    "        # break\n",
    "    print(\"acc train:\", correct/X_train.shape[0], \"acc test:\", evaluate(X_test))\n",
    "\n",
    "\n"
   ]
  },
  {
   "cell_type": "code",
   "execution_count": null,
   "metadata": {},
   "outputs": [
    {
     "ename": "",
     "evalue": "",
     "output_type": "error",
     "traceback": [
      "\u001b[1;31mRunning cells with 'Python 3.10.6 ('torch')' requires ipykernel package.\n",
      "\u001b[1;31mRun the following command to install 'ipykernel' into the Python environment. \n",
      "\u001b[1;31mCommand: 'conda install -n torch ipykernel --update-deps --force-reinstall'"
     ]
    }
   ],
   "source": [
    "import matplotlib.pyplot as plt\n",
    "\n",
    "for i in range(2):\n",
    "    plt.imshow(X_labeled[i, 0])\n",
    "    plt.show()\n",
    "    print(y_labeled[i])\n",
    "    print(\"\")"
   ]
  },
  {
   "cell_type": "code",
   "execution_count": null,
   "metadata": {},
   "outputs": [
    {
     "ename": "",
     "evalue": "",
     "output_type": "error",
     "traceback": [
      "\u001b[1;31mRunning cells with 'Python 3.10.6 ('torch')' requires ipykernel package.\n",
      "\u001b[1;31mRun the following command to install 'ipykernel' into the Python environment. \n",
      "\u001b[1;31mCommand: 'conda install -n torch ipykernel --update-deps --force-reinstall'"
     ]
    }
   ],
   "source": [
    "net.train()\n",
    "with torch.no_grad():\n",
    "    y_pred = net(X_test)\n",
    "\n",
    "\n",
    "print(y_pred.shape)\n",
    "pred = torch.argmax(y_pred, dim=1)\n",
    "\n",
    "pred = pred.cpu().numpy()\n",
    "df = pd.DataFrame(pred)\n",
    "df.to_csv(\"example_submission.csv\", header=False, index=False)"
   ]
  },
  {
   "cell_type": "code",
   "execution_count": null,
   "metadata": {},
   "outputs": [
    {
     "ename": "",
     "evalue": "",
     "output_type": "error",
     "traceback": [
      "\u001b[1;31mRunning cells with 'Python 3.10.6 ('torch')' requires ipykernel package.\n",
      "\u001b[1;31mRun the following command to install 'ipykernel' into the Python environment. \n",
      "\u001b[1;31mCommand: 'conda install -n torch ipykernel --update-deps --force-reinstall'"
     ]
    }
   ],
   "source": []
  }
 ],
 "metadata": {
  "kernelspec": {
   "display_name": "Python 3.10.6 ('torch')",
   "language": "python",
   "name": "python3"
  },
  "language_info": {
   "codemirror_mode": {
    "name": "ipython",
    "version": 3
   },
   "file_extension": ".py",
   "mimetype": "text/x-python",
   "name": "python",
   "nbconvert_exporter": "python",
   "pygments_lexer": "ipython3",
   "version": "3.10.6"
  },
  "orig_nbformat": 4,
  "vscode": {
   "interpreter": {
    "hash": "ba6bb107ab82cf524eb6dd807273ef4a0808e94d1f43c62b6e05316c2c34235e"
   }
  }
 },
 "nbformat": 4,
 "nbformat_minor": 2
}
