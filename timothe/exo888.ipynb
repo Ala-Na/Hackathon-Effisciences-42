{
 "cells": [
  {
   "cell_type": "code",
   "execution_count": null,
   "metadata": {},
   "outputs": [],
   "source": []
  }
 ],
 "metadata": {
  "kernelspec": {
   "display_name": "Python 3.7.14 ('venvHACK42': venv)",
   "language": "python",
   "name": "python3"
  },
  "language_info": {
   "name": "python",
   "version": "3.7.14"
  },
  "orig_nbformat": 4,
  "vscode": {
   "interpreter": {
    "hash": "cf08340bbfa00f96beb226c36a377300bc44490510c59bb508221a12ecc31458"
   }
  }
 },
 "nbformat": 4,
 "nbformat_minor": 2
}
